{
 "cells": [
  {
   "cell_type": "code",
   "execution_count": 1,
   "metadata": {
    "collapsed": false
   },
   "outputs": [
    {
     "name": "stdout",
     "output_type": "stream",
     "text": [
      "Collecting hyperloglog\n",
      "  Using cached hyperloglog-0.0.11.tar.gz\n",
      "Building wheels for collected packages: hyperloglog\n",
      "  Running setup.py bdist_wheel for hyperloglog ... \u001b[?25l-\b \bdone\n",
      "\u001b[?25h  Stored in directory: /home/jovyan/.cache/pip/wheels/0d/33/2a/6496fb46251cfc7afbf167fcdeae6eee6ff4959b6c378ab693\n",
      "Successfully built hyperloglog\n",
      "Installing collected packages: hyperloglog\n",
      "Successfully installed hyperloglog-0.0.11\n",
      "Collecting hashlib\n",
      "  Using cached hashlib-20081119.zip\n",
      "    Complete output from command python setup.py egg_info:\n",
      "    Traceback (most recent call last):\n",
      "      File \"<string>\", line 1, in <module>\n",
      "      File \"/opt/conda/envs/python2/lib/python2.7/site-packages/setuptools/__init__.py\", line 10, in <module>\n",
      "        from setuptools.extern.six.moves import filter, filterfalse, map\n",
      "      File \"/opt/conda/envs/python2/lib/python2.7/site-packages/setuptools/extern/__init__.py\", line 1, in <module>\n",
      "        from pkg_resources.extern import VendorImporter\n",
      "      File \"/opt/conda/envs/python2/lib/python2.7/site-packages/pkg_resources/__init__.py\", line 36, in <module>\n",
      "        import email.parser\n",
      "      File \"/opt/conda/envs/python2/lib/python2.7/email/parser.py\", line 12, in <module>\n",
      "        from email.feedparser import FeedParser\n",
      "      File \"/opt/conda/envs/python2/lib/python2.7/email/feedparser.py\", line 27, in <module>\n",
      "        from email import message\n",
      "      File \"/opt/conda/envs/python2/lib/python2.7/email/message.py\", line 16, in <module>\n",
      "        import email.charset\n",
      "      File \"/opt/conda/envs/python2/lib/python2.7/email/charset.py\", line 13, in <module>\n",
      "        import email.base64mime\n",
      "      File \"/opt/conda/envs/python2/lib/python2.7/email/base64mime.py\", line 40, in <module>\n",
      "        from email.utils import fix_eols\n",
      "      File \"/opt/conda/envs/python2/lib/python2.7/email/utils.py\", line 27, in <module>\n",
      "        import random\n",
      "      File \"/opt/conda/envs/python2/lib/python2.7/random.py\", line 49, in <module>\n",
      "        import hashlib as _hashlib\n",
      "      File \"hashlib.py\", line 115, in <module>\n",
      "        f()\n",
      "    TypeError: 'frozenset' object is not callable\n",
      "    \n",
      "    ----------------------------------------\n",
      "\u001b[31mCommand \"python setup.py egg_info\" failed with error code 1 in /tmp/pip-build-BWrGEz/hashlib/\u001b[0m\n",
      "Collecting datasketch\n",
      "  Using cached datasketch-1.2.3-py2.py3-none-any.whl\n",
      "Requirement already satisfied: numpy>=1.11 in /opt/conda/envs/python2/lib/python2.7/site-packages (from datasketch)\n",
      "Collecting redis>=2.10.0 (from datasketch)\n",
      "  Using cached redis-2.10.6-py2.py3-none-any.whl\n",
      "Installing collected packages: redis, datasketch\n",
      "Successfully installed datasketch-1.2.3 redis-2.10.6\n",
      "Collecting yacms\n",
      "Requirement already satisfied: beautifulsoup4>=4.1.3 in /opt/conda/envs/python2/lib/python2.7/site-packages (from yacms)\n",
      "Collecting requests-oauthlib>=0.4 (from yacms)\n",
      "  Using cached requests_oauthlib-0.8.0-py2.py3-none-any.whl\n",
      "Requirement already satisfied: bleach>=1.4 in /opt/conda/envs/python2/lib/python2.7/site-packages (from yacms)\n",
      "Requirement already satisfied: pillow in /opt/conda/envs/python2/lib/python2.7/site-packages (from yacms)\n",
      "Collecting django-contrib-comments (from yacms)\n",
      "  Using cached django_contrib_comments-1.8.0-py2.py3-none-any.whl\n",
      "Collecting tzlocal>=1.0 (from yacms)\n",
      "  Using cached tzlocal-1.4.tar.gz\n",
      "Collecting grappelli-safe>=0.4.5 (from yacms)\n",
      "  Using cached grappelli_safe-0.4.6-py2.py3-none-any.whl\n",
      "Collecting filebrowser-safe>=0.4.6 (from yacms)\n",
      "  Using cached filebrowser_safe-0.4.7-py2.py3-none-any.whl\n",
      "Collecting django<1.11,>=1.8 (from yacms)\n",
      "  Using cached Django-1.10.8-py2.py3-none-any.whl\n",
      "Requirement already satisfied: requests>=2.1.0 in /opt/conda/envs/python2/lib/python2.7/site-packages (from yacms)\n",
      "Collecting future>=0.9.0 (from yacms)\n",
      "  Using cached future-0.16.0.tar.gz\n",
      "Collecting chardet (from yacms)\n",
      "  Using cached chardet-3.0.4-py2.py3-none-any.whl\n",
      "Collecting oauthlib>=0.6.2 (from requests-oauthlib>=0.4->yacms)\n",
      "Requirement already satisfied: html5lib!=0.9999,!=0.99999,<0.99999999,>=0.999 in /opt/conda/envs/python2/lib/python2.7/site-packages (from bleach>=1.4->yacms)\n",
      "Requirement already satisfied: six in /opt/conda/envs/python2/lib/python2.7/site-packages (from bleach>=1.4->yacms)\n",
      "Requirement already satisfied: olefile in /opt/conda/envs/python2/lib/python2.7/site-packages (from pillow->yacms)\n",
      "Requirement already satisfied: pytz in /opt/conda/envs/python2/lib/python2.7/site-packages (from tzlocal>=1.0->yacms)\n",
      "Building wheels for collected packages: tzlocal, future\n",
      "  Running setup.py bdist_wheel for tzlocal ... \u001b[?25l-\b \bdone\n",
      "\u001b[?25h  Stored in directory: /home/jovyan/.cache/pip/wheels/dc/d6/f0/84194ccbdd3e2551bdb207e1fc1925efd32956c5767328103b\n",
      "  Running setup.py bdist_wheel for future ... \u001b[?25l-\b \b\\\b \bdone\n",
      "\u001b[?25h  Stored in directory: /home/jovyan/.cache/pip/wheels/c2/50/7c/0d83b4baac4f63ff7a765bd16390d2ab43c93587fac9d6017a\n",
      "Successfully built tzlocal future\n",
      "Installing collected packages: oauthlib, requests-oauthlib, django, django-contrib-comments, tzlocal, grappelli-safe, filebrowser-safe, future, chardet, yacms\n",
      "Successfully installed chardet-3.0.4 django-1.10.8 django-contrib-comments-1.8.0 filebrowser-safe-0.4.7 future-0.16.0 grappelli-safe-0.4.6 oauthlib-2.0.3 requests-oauthlib-0.8.0 tzlocal-1.4 yacms-4.2.2\n",
      "Collecting tdigest\n",
      "  Using cached tdigest-0.4.1.0.tar.gz\n",
      "Collecting bintrees (from tdigest)\n",
      "  Using cached bintrees-2.0.7.zip\n",
      "Collecting pyudorandom (from tdigest)\n",
      "  Using cached pyudorandom-1.0.0.tar.gz\n",
      "Building wheels for collected packages: tdigest, bintrees, pyudorandom\n",
      "  Running setup.py bdist_wheel for tdigest ... \u001b[?25l-\b \bdone\n",
      "\u001b[?25h  Stored in directory: /home/jovyan/.cache/pip/wheels/97/b0/27/29c05875dccc6e61751002a85accf922a37520a7d4db78c1f0\n",
      "  Running setup.py bdist_wheel for bintrees ... \u001b[?25l-\b \b\\\b \b|\b \bdone\n",
      "\u001b[?25h  Stored in directory: /home/jovyan/.cache/pip/wheels/86/6a/69/d6faab770edfb66165e9ab37295ae29800eaf1ce98b9207020\n",
      "  Running setup.py bdist_wheel for pyudorandom ... \u001b[?25l-\b \bdone\n",
      "\u001b[?25h  Stored in directory: /home/jovyan/.cache/pip/wheels/42/f7/7f/c1246db6487131bcf52c426bb7a5349ce680683d4ab48f580b\n",
      "Successfully built tdigest bintrees pyudorandom\n",
      "Installing collected packages: bintrees, pyudorandom, tdigest\n",
      "Successfully installed bintrees-2.0.7 pyudorandom-1.0.0 tdigest-0.4.1.0\n"
     ]
    }
   ],
   "source": [
    "!pip install hyperloglog \n",
    "!pip install hashlib\n",
    "!pip install datasketch\n",
    "!pip install yacms \n",
    "!pip install tdigest"
   ]
  },
  {
   "cell_type": "code",
   "execution_count": 2,
   "metadata": {
    "collapsed": false
   },
   "outputs": [
    {
     "name": "stdout",
     "output_type": "stream",
     "text": [
      "Collecting pybloom\n",
      "  Using cached pybloom-1.1.tar.gz\n",
      "Collecting bitarray>=0.3.4 (from pybloom)\n",
      "  Downloading bitarray-0.8.1.tar.gz (46kB)\n",
      "\u001b[K    100% |████████████████████████████████| 51kB 1.0MB/s ta 0:00:01\n",
      "\u001b[?25hBuilding wheels for collected packages: pybloom, bitarray\n",
      "  Running setup.py bdist_wheel for pybloom ... \u001b[?25l-\b \bdone\n",
      "\u001b[?25h  Stored in directory: /home/jovyan/.cache/pip/wheels/c5/36/47/a4d71b4f39d2b8a82d29ceee6b7d65b45700ec6744e63e0eb8\n",
      "  Running setup.py bdist_wheel for bitarray ... \u001b[?25l-\b \b\\\b \bdone\n",
      "\u001b[?25h  Stored in directory: /home/jovyan/.cache/pip/wheels/46/63/90/821699390044b2d0c5f2a01f275115e240bd06f0edc6c6a19b\n",
      "Successfully built pybloom bitarray\n",
      "Installing collected packages: bitarray, pybloom\n",
      "Successfully installed bitarray-0.8.1 pybloom-1.1\n"
     ]
    }
   ],
   "source": [
    "!pip install pybloom "
   ]
  },
  {
   "cell_type": "code",
   "execution_count": 3,
   "metadata": {
    "collapsed": true
   },
   "outputs": [],
   "source": [
    "jabber_text = \"\"\"\n",
    "`Twas brillig, and the slithy toves\n",
    "  Did gyre and gimble in the wabe:\n",
    "All mimsy were the borogoves,\n",
    "  And the mome raths outgrabe.\n",
    "\n",
    "\"Beware the Jabberwock, my son!\n",
    "  The jaws that bite, the claws that catch!\n",
    "Beware the Jubjub bird, and shun\n",
    "  The frumious Bandersnatch!\"\n",
    "He took his vorpal sword in hand:\n",
    "  Long time the manxome foe he sought --\n",
    "So rested he by the Tumtum tree,\n",
    "  And stood awhile in thought.\n",
    "And, as in uffish thought he stood,\n",
    "  The Jabberwock, with eyes of flame,\n",
    "Came whiffling through the tulgey wood,\n",
    "  And burbled as it came!\n",
    "One, two! One, two! And through and through\n",
    "  The vorpal blade went snicker-snack!\n",
    "He left it dead, and with its head\n",
    "  He went galumphing back.\n",
    "\"And, has thou slain the Jabberwock?\n",
    "  Come to my arms, my beamish boy!\n",
    "O frabjous day! Callooh! Callay!'\n",
    "  He chortled in his joy.\n",
    "\n",
    "`Twas brillig, and the slithy toves\n",
    "  Did gyre and gimble in the wabe;\n",
    "All mimsy were the borogoves,\n",
    "  And the mome raths outgrabe.\n",
    "\"\"\""
   ]
  },
  {
   "cell_type": "code",
   "execution_count": 4,
   "metadata": {
    "collapsed": true
   },
   "outputs": [],
   "source": [
    "parker_text = \"\"\"\n",
    "My answers are inadequate\n",
    "To those demanding day and date\n",
    "And ever set a tiny shock\n",
    "Through strangers asking what's o'clock;\n",
    "Whose days are spent in whittling rhyme-\n",
    "What's time to her, or she to Time?\n",
    "\"\"\""
   ]
  },
  {
   "cell_type": "code",
   "execution_count": 5,
   "metadata": {
    "collapsed": true
   },
   "outputs": [],
   "source": [
    "import re\n",
    "\n",
    "def clean_words (text):\n",
    "    return filter(lambda x: len(x) > 0, re.sub(\"[^A-Za-z]\", \" \", text).split(\" \"))"
   ]
  },
  {
   "cell_type": "code",
   "execution_count": 10,
   "metadata": {
    "collapsed": false
   },
   "outputs": [
    {
     "name": "stdout",
     "output_type": "stream",
     "text": [
      "['twas', 'brillig', 'and', 'the', 'slithy', 'toves', 'did', 'gyre', 'and', 'gimble', 'in', 'the', 'wabe', 'all', 'mimsy', 'were', 'the', 'borogoves', 'and', 'the', 'mome', 'raths', 'outgrabe', 'beware', 'the', 'jabberwock', 'my', 'son', 'the', 'jaws', 'that', 'bite', 'the', 'claws', 'that', 'catch', 'beware', 'the', 'jubjub', 'bird', 'and', 'shun', 'the', 'frumious', 'bandersnatch', 'he', 'took', 'his', 'vorpal', 'sword', 'in', 'hand', 'long', 'time', 'the', 'manxome', 'foe', 'he', 'sought', 'so', 'rested', 'he', 'by', 'the', 'tumtum', 'tree', 'and', 'stood', 'awhile', 'in', 'thought', 'and', 'as', 'in', 'uffish', 'thought', 'he', 'stood', 'the', 'jabberwock', 'with', 'eyes', 'of', 'flame', 'came', 'whiffling', 'through', 'the', 'tulgey', 'wood', 'and', 'burbled', 'as', 'it', 'came', 'one', 'two', 'one', 'two', 'and', 'through', 'and', 'through', 'the', 'vorpal', 'blade', 'went', 'snicker', 'snack', 'he', 'left', 'it', 'dead', 'and', 'with', 'its', 'head', 'he', 'went', 'galumphing', 'back', 'and', 'has', 'thou', 'slain', 'the', 'jabberwock', 'come', 'to', 'my', 'arms', 'my', 'beamish', 'boy', 'o', 'frabjous', 'day', 'callooh', 'callay', 'he', 'chortled', 'in', 'his', 'joy', 'twas', 'brillig', 'and', 'the', 'slithy', 'toves', 'did', 'gyre', 'and', 'gimble', 'in', 'the', 'wabe', 'all', 'mimsy', 'were', 'the', 'borogoves', 'and', 'the', 'mome', 'raths', 'outgrabe']\n"
     ]
    }
   ],
   "source": [
    "print(clean_words(jabber_text.lower()))"
   ]
  },
  {
   "cell_type": "code",
   "execution_count": 11,
   "metadata": {
    "collapsed": false
   },
   "outputs": [
    {
     "name": "stdout",
     "output_type": "stream",
     "text": [
      "['my', 'answers', 'are', 'inadequate', 'to', 'those', 'demanding', 'day', 'and', 'date', 'and', 'ever', 'set', 'a', 'tiny', 'shock', 'through', 'strangers', 'asking', 'what', 's', 'o', 'clock', 'whose', 'days', 'are', 'spent', 'in', 'whittling', 'rhyme', 'what', 's', 'time', 'to', 'her', 'or', 'she', 'to', 'time']\n"
     ]
    }
   ],
   "source": [
    "print(clean_words(parker_text.lower()))"
   ]
  },
  {
   "cell_type": "code",
   "execution_count": 12,
   "metadata": {
    "collapsed": false
   },
   "outputs": [
    {
     "name": "stdout",
     "output_type": "stream",
     "text": [
      "['all', 'and', 'arms', 'as', 'awhile', 'back', 'bandersnatch', 'beamish', 'beware', 'bird', 'bite', 'blade', 'borogoves', 'boy', 'brillig', 'burbled', 'by', 'callay', 'callooh', 'came', 'catch', 'chortled', 'claws', 'come', 'day', 'dead', 'did', 'eyes', 'flame', 'foe', 'frabjous', 'frumious', 'galumphing', 'gimble', 'gyre', 'hand', 'has', 'he', 'head', 'his', 'in', 'it', 'its', 'jabberwock', 'jaws', 'joy', 'jubjub', 'left', 'long', 'manxome', 'mimsy', 'mome', 'my', 'o', 'of', 'one', 'outgrabe', 'raths', 'rested', 'shun', 'slain', 'slithy', 'snack', 'snicker', 'so', 'son', 'sought', 'stood', 'sword', 'that', 'the', 'thou', 'thought', 'through', 'time', 'to', 'took', 'toves', 'tree', 'tulgey', 'tumtum', 'twas', 'two', 'uffish', 'vorpal', 'wabe', 'went', 'were', 'whiffling', 'with', 'wood']\n"
     ]
    }
   ],
   "source": [
    "jabber_uniq = sorted(set(jabber_words))\n",
    "print(jabber_uniq)"
   ]
  },
  {
   "cell_type": "markdown",
   "metadata": {},
   "source": [
    "### HYPERLOGLOG - SET CARDINALITY"
   ]
  },
  {
   "cell_type": "code",
   "execution_count": 13,
   "metadata": {
    "collapsed": false
   },
   "outputs": [
    {
     "name": "stdout",
     "output_type": "stream",
     "text": [
      "prob count 90, true count 91\n",
      "observed error rate 0.01\n"
     ]
    }
   ],
   "source": [
    "import hyperloglog\n",
    "\n",
    "# accept 1% counting error\n",
    "hll = hyperloglog.HyperLogLog(0.01)\n",
    "\n",
    "for word in jabber_words:\n",
    "    hll.add(word)\n",
    "\n",
    "print (\"prob count %d, true count %d\" % (len(hll), len(jabber_uniq)))\n",
    "print (\"observed error rate %0.2f\" % (abs(len(hll) - len(jabber_uniq)) / float(len(jabber_uniq))))"
   ]
  },
  {
   "cell_type": "markdown",
   "metadata": {},
   "source": [
    "### BLOOM FILTER - SET MEMBERSHIP"
   ]
  },
  {
   "cell_type": "code",
   "execution_count": 14,
   "metadata": {
    "collapsed": false
   },
   "outputs": [
    {
     "name": "stdout",
     "output_type": "stream",
     "text": [
      "set(['and', 'in', 'o', 'to', 'through', 'time', 'my', 'day'])\n"
     ]
    }
   ],
   "source": [
    "from pybloom import BloomFilter\n",
    "\n",
    "bf = BloomFilter(capacity=1000, error_rate=0.001)\n",
    "\n",
    "for word in parker_words:\n",
    "    bf.add(word)\n",
    "\n",
    "intersect = set([])\n",
    "\n",
    "for word in jabber_words:\n",
    "    if word in bf:\n",
    "        intersect.add(word)\n",
    "\n",
    "print(intersect)"
   ]
  },
  {
   "cell_type": "markdown",
   "metadata": {},
   "source": [
    "### MINHASH - SET SIMILARITY"
   ]
  },
  {
   "cell_type": "markdown",
   "metadata": {},
   "source": [
    "### COUNT-MIN SKETCH - FREQUENCY SUMMARIES"
   ]
  },
  {
   "cell_type": "code",
   "execution_count": null,
   "metadata": {
    "collapsed": true
   },
   "outputs": [],
   "source": []
  },
  {
   "cell_type": "code",
   "execution_count": null,
   "metadata": {
    "collapsed": true
   },
   "outputs": [],
   "source": []
  },
  {
   "cell_type": "markdown",
   "metadata": {},
   "source": [
    "### T-DIGEST - STREAMING QUANTILES"
   ]
  },
  {
   "cell_type": "code",
   "execution_count": null,
   "metadata": {
    "collapsed": true
   },
   "outputs": [],
   "source": []
  },
  {
   "cell_type": "code",
   "execution_count": null,
   "metadata": {
    "collapsed": true
   },
   "outputs": [],
   "source": []
  }
 ],
 "metadata": {
  "kernelspec": {
   "display_name": "Python 2",
   "language": "python",
   "name": "python2"
  },
  "language_info": {
   "codemirror_mode": {
    "name": "ipython",
    "version": 2
   },
   "file_extension": ".py",
   "mimetype": "text/x-python",
   "name": "python",
   "nbconvert_exporter": "python",
   "pygments_lexer": "ipython2",
   "version": "2.7.12"
  }
 },
 "nbformat": 4,
 "nbformat_minor": 2
}
